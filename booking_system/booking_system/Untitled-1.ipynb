{
 "cells": [
  {
   "cell_type": "code",
   "execution_count": 12,
   "metadata": {},
   "outputs": [
    {
     "ename": "ProgrammingError",
     "evalue": "1054 (42S22): Unknown column 'movie_name' in 'field list'",
     "output_type": "error",
     "traceback": [
      "\u001b[1;31m---------------------------------------------------------------------------\u001b[0m",
      "\u001b[1;31mMySQLInterfaceError\u001b[0m                       Traceback (most recent call last)",
      "File \u001b[1;32me:\\booking_system\\booking\\Lib\\site-packages\\mysql\\connector\\connection_cext.py:633\u001b[0m, in \u001b[0;36mCMySQLConnection.cmd_query\u001b[1;34m(self, query, raw, buffered, raw_as_string)\u001b[0m\n\u001b[0;32m    632\u001b[0m         query \u001b[39m=\u001b[39m query\u001b[39m.\u001b[39mencode(\u001b[39m\"\u001b[39m\u001b[39mutf-8\u001b[39m\u001b[39m\"\u001b[39m)\n\u001b[1;32m--> 633\u001b[0m     \u001b[39mself\u001b[39;49m\u001b[39m.\u001b[39;49m_cmysql\u001b[39m.\u001b[39;49mquery(\n\u001b[0;32m    634\u001b[0m         query,\n\u001b[0;32m    635\u001b[0m         raw\u001b[39m=\u001b[39;49mraw,\n\u001b[0;32m    636\u001b[0m         buffered\u001b[39m=\u001b[39;49mbuffered,\n\u001b[0;32m    637\u001b[0m         raw_as_string\u001b[39m=\u001b[39;49mraw_as_string,\n\u001b[0;32m    638\u001b[0m         query_attrs\u001b[39m=\u001b[39;49m\u001b[39mself\u001b[39;49m\u001b[39m.\u001b[39;49mquery_attrs,\n\u001b[0;32m    639\u001b[0m     )\n\u001b[0;32m    640\u001b[0m \u001b[39mexcept\u001b[39;00m MySQLInterfaceError \u001b[39mas\u001b[39;00m err:\n",
      "\u001b[1;31mMySQLInterfaceError\u001b[0m: Unknown column 'movie_name' in 'field list'",
      "\nThe above exception was the direct cause of the following exception:\n",
      "\u001b[1;31mProgrammingError\u001b[0m                          Traceback (most recent call last)",
      "Cell \u001b[1;32mIn[12], line 17\u001b[0m\n\u001b[0;32m     14\u001b[0m cursor \u001b[39m=\u001b[39m connection\u001b[39m.\u001b[39mcursor()\n\u001b[0;32m     16\u001b[0m \u001b[39m# Fetch movie names from the database\u001b[39;00m\n\u001b[1;32m---> 17\u001b[0m cursor\u001b[39m.\u001b[39;49mexecute(\u001b[39m\"\u001b[39;49m\u001b[39mSELECT movie_name FROM movie_tickets\u001b[39;49m\u001b[39m\"\u001b[39;49m)\n\u001b[0;32m     19\u001b[0m \u001b[39m# Loop through the movie names and update the image_url column\u001b[39;00m\n\u001b[0;32m     20\u001b[0m \u001b[39mfor\u001b[39;00m (movie_name,) \u001b[39min\u001b[39;00m cursor\u001b[39m.\u001b[39mfetchall():\n\u001b[0;32m     21\u001b[0m     \u001b[39m# Construct a search URL based on the movie name\u001b[39;00m\n",
      "File \u001b[1;32me:\\booking_system\\booking\\Lib\\site-packages\\mysql\\connector\\cursor_cext.py:330\u001b[0m, in \u001b[0;36mCMySQLCursor.execute\u001b[1;34m(self, operation, params, multi)\u001b[0m\n\u001b[0;32m    325\u001b[0m             \u001b[39mraise\u001b[39;00m ProgrammingError(\n\u001b[0;32m    326\u001b[0m                 \u001b[39m\"\u001b[39m\u001b[39mNot all parameters were used in the SQL statement\u001b[39m\u001b[39m\"\u001b[39m\n\u001b[0;32m    327\u001b[0m             )\n\u001b[0;32m    329\u001b[0m \u001b[39mtry\u001b[39;00m:\n\u001b[1;32m--> 330\u001b[0m     result \u001b[39m=\u001b[39m \u001b[39mself\u001b[39;49m\u001b[39m.\u001b[39;49m_cnx\u001b[39m.\u001b[39;49mcmd_query(\n\u001b[0;32m    331\u001b[0m         stmt,\n\u001b[0;32m    332\u001b[0m         raw\u001b[39m=\u001b[39;49m\u001b[39mself\u001b[39;49m\u001b[39m.\u001b[39;49m_raw,\n\u001b[0;32m    333\u001b[0m         buffered\u001b[39m=\u001b[39;49m\u001b[39mself\u001b[39;49m\u001b[39m.\u001b[39;49m_buffered,\n\u001b[0;32m    334\u001b[0m         raw_as_string\u001b[39m=\u001b[39;49m\u001b[39mself\u001b[39;49m\u001b[39m.\u001b[39;49m_raw_as_string,\n\u001b[0;32m    335\u001b[0m     )\n\u001b[0;32m    336\u001b[0m \u001b[39mexcept\u001b[39;00m MySQLInterfaceError \u001b[39mas\u001b[39;00m err:\n\u001b[0;32m    337\u001b[0m     \u001b[39mraise\u001b[39;00m get_mysql_exception(\n\u001b[0;32m    338\u001b[0m         msg\u001b[39m=\u001b[39merr\u001b[39m.\u001b[39mmsg, errno\u001b[39m=\u001b[39merr\u001b[39m.\u001b[39merrno, sqlstate\u001b[39m=\u001b[39merr\u001b[39m.\u001b[39msqlstate\n\u001b[0;32m    339\u001b[0m     ) \u001b[39mfrom\u001b[39;00m \u001b[39merr\u001b[39;00m\n",
      "File \u001b[1;32me:\\booking_system\\booking\\Lib\\site-packages\\mysql\\connector\\opentelemetry\\context_propagation.py:77\u001b[0m, in \u001b[0;36mwith_context_propagation.<locals>.wrapper\u001b[1;34m(cnx, *args, **kwargs)\u001b[0m\n\u001b[0;32m     75\u001b[0m \u001b[39m\u001b[39m\u001b[39m\"\"\"Context propagation decorator.\"\"\"\u001b[39;00m\n\u001b[0;32m     76\u001b[0m \u001b[39mif\u001b[39;00m \u001b[39mnot\u001b[39;00m OTEL_ENABLED \u001b[39mor\u001b[39;00m \u001b[39mnot\u001b[39;00m cnx\u001b[39m.\u001b[39motel_context_propagation:\n\u001b[1;32m---> 77\u001b[0m     \u001b[39mreturn\u001b[39;00m method(cnx, \u001b[39m*\u001b[39;49margs, \u001b[39m*\u001b[39;49m\u001b[39m*\u001b[39;49mkwargs)\n\u001b[0;32m     79\u001b[0m current_span \u001b[39m=\u001b[39m trace\u001b[39m.\u001b[39mget_current_span()\n\u001b[0;32m     80\u001b[0m tp_header \u001b[39m=\u001b[39m \u001b[39mNone\u001b[39;00m\n",
      "File \u001b[1;32me:\\booking_system\\booking\\Lib\\site-packages\\mysql\\connector\\connection_cext.py:641\u001b[0m, in \u001b[0;36mCMySQLConnection.cmd_query\u001b[1;34m(self, query, raw, buffered, raw_as_string)\u001b[0m\n\u001b[0;32m    633\u001b[0m     \u001b[39mself\u001b[39m\u001b[39m.\u001b[39m_cmysql\u001b[39m.\u001b[39mquery(\n\u001b[0;32m    634\u001b[0m         query,\n\u001b[0;32m    635\u001b[0m         raw\u001b[39m=\u001b[39mraw,\n\u001b[1;32m   (...)\u001b[0m\n\u001b[0;32m    638\u001b[0m         query_attrs\u001b[39m=\u001b[39m\u001b[39mself\u001b[39m\u001b[39m.\u001b[39mquery_attrs,\n\u001b[0;32m    639\u001b[0m     )\n\u001b[0;32m    640\u001b[0m \u001b[39mexcept\u001b[39;00m MySQLInterfaceError \u001b[39mas\u001b[39;00m err:\n\u001b[1;32m--> 641\u001b[0m     \u001b[39mraise\u001b[39;00m get_mysql_exception(\n\u001b[0;32m    642\u001b[0m         err\u001b[39m.\u001b[39merrno, msg\u001b[39m=\u001b[39merr\u001b[39m.\u001b[39mmsg, sqlstate\u001b[39m=\u001b[39merr\u001b[39m.\u001b[39msqlstate\n\u001b[0;32m    643\u001b[0m     ) \u001b[39mfrom\u001b[39;00m \u001b[39merr\u001b[39;00m\n\u001b[0;32m    644\u001b[0m \u001b[39mexcept\u001b[39;00m \u001b[39mAttributeError\u001b[39;00m \u001b[39mas\u001b[39;00m err:\n\u001b[0;32m    645\u001b[0m     addr \u001b[39m=\u001b[39m (\n\u001b[0;32m    646\u001b[0m         \u001b[39mself\u001b[39m\u001b[39m.\u001b[39m_unix_socket \u001b[39mif\u001b[39;00m \u001b[39mself\u001b[39m\u001b[39m.\u001b[39m_unix_socket \u001b[39melse\u001b[39;00m \u001b[39mf\u001b[39m\u001b[39m\"\u001b[39m\u001b[39m{\u001b[39;00m\u001b[39mself\u001b[39m\u001b[39m.\u001b[39m_host\u001b[39m}\u001b[39;00m\u001b[39m:\u001b[39m\u001b[39m{\u001b[39;00m\u001b[39mself\u001b[39m\u001b[39m.\u001b[39m_port\u001b[39m}\u001b[39;00m\u001b[39m\"\u001b[39m\n\u001b[0;32m    647\u001b[0m     )\n",
      "\u001b[1;31mProgrammingError\u001b[0m: 1054 (42S22): Unknown column 'movie_name' in 'field list'"
     ]
    }
   ],
   "source": [
    "import requests\n",
    "from bs4 import BeautifulSoup\n",
    "import mysql.connector\n",
    "\n",
    "\n",
    "# Create a connection to your MySQL database\n",
    "connection = mysql.connector.connect(\n",
    "    host='127.0.0.1',\n",
    "    user='root',\n",
    "    password='gowtham_6383',\n",
    "    database='movie_booking'\n",
    ")\n",
    "\n",
    "cursor = connection.cursor()\n",
    "\n",
    "# Fetch movie names from the database\n",
    "cursor.execute(\"SELECT movie_name FROM movie_tickets\")\n",
    "\n",
    "# Loop through the movie names and update the image_url column\n",
    "for (movie_name,) in cursor.fetchall():\n",
    "    # Construct a search URL based on the movie name\n",
    "    search_url = f'https://example.com/search?q={movie_name}'\n",
    "    \n",
    "    # Send an HTTP request to the search URL\n",
    "    response = requests.get(search_url)\n",
    "\n",
    "    if response.status_code == 200:\n",
    "        # Parse the HTML content with BeautifulSoup to extract image URLs\n",
    "        soup = BeautifulSoup(response.text, 'html.parser')\n",
    "        image_url = soup.find('img')['src']\n",
    "\n",
    "        # Update the database with the fetched image URL\n",
    "        cursor.execute(\"UPDATE MovieTickets SET image_url = %s WHERE movie_name = %s\", (image_url, movie_name))\n",
    "        connection.commit()\n",
    "\n",
    "# Close the database connection\n",
    "cursor.close()\n",
    "connection.close()\n"
   ]
  },
  {
   "cell_type": "code",
   "execution_count": 9,
   "metadata": {},
   "outputs": [
    {
     "name": "stdout",
     "output_type": "stream",
     "text": [
      "Collecting mysql-connector-python\n",
      "  Downloading mysql_connector_python-8.1.0-cp311-cp311-win_amd64.whl (10.8 MB)\n",
      "                                              0.0/10.8 MB ? eta -:--:--\n",
      "                                              0.2/10.8 MB 4.8 MB/s eta 0:00:03\n",
      "     -                                        0.5/10.8 MB 5.0 MB/s eta 0:00:03\n",
      "     --                                       0.8/10.8 MB 6.2 MB/s eta 0:00:02\n",
      "     ----                                     1.1/10.8 MB 6.3 MB/s eta 0:00:02\n",
      "     -----                                    1.4/10.8 MB 6.4 MB/s eta 0:00:02\n",
      "     ------                                   1.7/10.8 MB 6.4 MB/s eta 0:00:02\n",
      "     -------                                  2.0/10.8 MB 6.4 MB/s eta 0:00:02\n",
      "     --------                                 2.3/10.8 MB 6.3 MB/s eta 0:00:02\n",
      "     ---------                                2.6/10.8 MB 6.3 MB/s eta 0:00:02\n",
      "     ----------                               2.9/10.8 MB 6.4 MB/s eta 0:00:02\n",
      "     -----------                              3.2/10.8 MB 6.5 MB/s eta 0:00:02\n",
      "     -------------                            3.6/10.8 MB 6.4 MB/s eta 0:00:02\n",
      "     --------------                           3.9/10.8 MB 6.3 MB/s eta 0:00:02\n",
      "     ---------------                          4.1/10.8 MB 6.4 MB/s eta 0:00:02\n",
      "     ----------------                         4.5/10.8 MB 6.3 MB/s eta 0:00:02\n",
      "     -----------------                        4.7/10.8 MB 6.4 MB/s eta 0:00:01\n",
      "     ------------------                       5.0/10.8 MB 6.3 MB/s eta 0:00:01\n",
      "     ------------------                       5.1/10.8 MB 6.0 MB/s eta 0:00:01\n",
      "     --------------------                     5.6/10.8 MB 6.2 MB/s eta 0:00:01\n",
      "     ---------------------                    5.8/10.8 MB 6.2 MB/s eta 0:00:01\n",
      "     ---------------------                    5.8/10.8 MB 6.2 MB/s eta 0:00:01\n",
      "     ----------------------                   6.2/10.8 MB 5.9 MB/s eta 0:00:01\n",
      "     -----------------------                  6.4/10.8 MB 6.0 MB/s eta 0:00:01\n",
      "     -------------------------                6.9/10.8 MB 6.1 MB/s eta 0:00:01\n",
      "     --------------------------               7.3/10.8 MB 6.1 MB/s eta 0:00:01\n",
      "     ----------------------------             7.7/10.8 MB 6.1 MB/s eta 0:00:01\n",
      "     -----------------------------            7.9/10.8 MB 6.1 MB/s eta 0:00:01\n",
      "     ------------------------------           8.3/10.8 MB 6.1 MB/s eta 0:00:01\n",
      "     -------------------------------          8.6/10.8 MB 6.1 MB/s eta 0:00:01\n",
      "     ---------------------------------        9.1/10.8 MB 6.2 MB/s eta 0:00:01\n",
      "     ----------------------------------       9.4/10.8 MB 6.2 MB/s eta 0:00:01\n",
      "     ----------------------------------       9.5/10.8 MB 6.2 MB/s eta 0:00:01\n",
      "     -----------------------------------      9.7/10.8 MB 6.0 MB/s eta 0:00:01\n",
      "     -------------------------------------    10.2/10.8 MB 6.1 MB/s eta 0:00:01\n",
      "     ---------------------------------------  10.6/10.8 MB 6.2 MB/s eta 0:00:01\n",
      "     ---------------------------------------  10.8/10.8 MB 6.3 MB/s eta 0:00:01\n",
      "     ---------------------------------------  10.8/10.8 MB 6.3 MB/s eta 0:00:01\n",
      "     ---------------------------------------- 10.8/10.8 MB 5.9 MB/s eta 0:00:00\n",
      "Collecting protobuf<=4.21.12,>=4.21.1 (from mysql-connector-python)\n",
      "  Downloading protobuf-4.21.12-cp310-abi3-win_amd64.whl (527 kB)\n",
      "                                              0.0/527.0 kB ? eta -:--:--\n",
      "     -------------------------             368.6/527.0 kB 11.2 MB/s eta 0:00:01\n",
      "     -------------------------------------- 527.0/527.0 kB 8.2 MB/s eta 0:00:00\n",
      "Installing collected packages: protobuf, mysql-connector-python\n",
      "Successfully installed mysql-connector-python-8.1.0 protobuf-4.21.12\n"
     ]
    },
    {
     "name": "stderr",
     "output_type": "stream",
     "text": [
      "\n",
      "[notice] A new release of pip is available: 23.1.2 -> 23.2.1\n",
      "[notice] To update, run: python.exe -m pip install --upgrade pip\n"
     ]
    }
   ],
   "source": [
    "! pip install mysql-connector-python"
   ]
  },
  {
   "cell_type": "code",
   "execution_count": null,
   "metadata": {},
   "outputs": [],
   "source": []
  }
 ],
 "metadata": {
  "kernelspec": {
   "display_name": "booking",
   "language": "python",
   "name": "python3"
  },
  "language_info": {
   "codemirror_mode": {
    "name": "ipython",
    "version": 3
   },
   "file_extension": ".py",
   "mimetype": "text/x-python",
   "name": "python",
   "nbconvert_exporter": "python",
   "pygments_lexer": "ipython3",
   "version": "3.11.4"
  },
  "orig_nbformat": 4
 },
 "nbformat": 4,
 "nbformat_minor": 2
}
